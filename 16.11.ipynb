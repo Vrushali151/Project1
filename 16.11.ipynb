{
 "cells": [
  {
   "cell_type": "code",
   "execution_count": 26,
   "id": "043db8fa-e25c-4622-bfe2-bd6cfdcdea6c",
   "metadata": {},
   "outputs": [
    {
     "name": "stdout",
     "output_type": "stream",
     "text": [
      "Prime Numbers are: [243, 45, 5, 5, 5, 3, 5, 5, 5, 5, 5, 5, 15]\n",
      "Not Prime Numbers are: [243, 434, 45, 4, 8, 90, 6, 16, 15, 4, 4]\n"
     ]
    }
   ],
   "source": [
    "##Assigment  : USE FUNCTION ONLY\n",
    "#1.p = [45,34,35,63,4,6,34,3,34,35,35]\n",
    "#prime number --> p1 = copy using function\n",
    "def Check_Prime_Num(*args):\n",
    "    Prime_num=[]\n",
    "    Not_Prime=[]\n",
    "    for num in args:\n",
    "        if num>1:\n",
    "             for i in range(2, (num//2)+1):\n",
    "                if num%i==0:\n",
    "                    Not_Prime.append(num)\n",
    "                    break\n",
    "                else:\n",
    "                    Prime_num.append(num)\n",
    "                #return false\n",
    "    else:\n",
    "        Not_Prime.append(num)\n",
    "                   \n",
    "    print(\"Prime Numbers are:\",Prime_num)\n",
    "    print(\"Not Prime Numbers are:\",Not_Prime)                \n",
    "Check_Prime_Num(243,434,45,5,3,1,4,5,8,90,6,5,16,15,4)       \n",
    "     \n",
    "                \n",
    "\n",
    "    \n",
    " "
   ]
  },
  {
   "cell_type": "code",
   "execution_count": null,
   "id": "f14089d7-3c53-4cb0-8236-c7073d2ce001",
   "metadata": {},
   "outputs": [],
   "source": []
  },
  {
   "cell_type": "code",
   "execution_count": null,
   "id": "1cada0fe-7449-4109-9487-646b0d20301d",
   "metadata": {},
   "outputs": [],
   "source": []
  },
  {
   "cell_type": "code",
   "execution_count": null,
   "id": "98c600e7-f646-469d-812e-12eb34e02ff7",
   "metadata": {},
   "outputs": [],
   "source": []
  }
 ],
 "metadata": {
  "kernelspec": {
   "display_name": "Python 3 (ipykernel)",
   "language": "python",
   "name": "python3"
  },
  "language_info": {
   "codemirror_mode": {
    "name": "ipython",
    "version": 3
   },
   "file_extension": ".py",
   "mimetype": "text/x-python",
   "name": "python",
   "nbconvert_exporter": "python",
   "pygments_lexer": "ipython3",
   "version": "3.12.4"
  }
 },
 "nbformat": 4,
 "nbformat_minor": 5
}
