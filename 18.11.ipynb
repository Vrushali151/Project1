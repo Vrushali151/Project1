{
 "cells": [
  {
   "cell_type": "code",
   "execution_count": 10,
   "id": "49e268b4-b41c-47be-8b26-bdcc53971ac4",
   "metadata": {},
   "outputs": [
    {
     "data": {
      "text/plain": [
       "[100, 200, 300, 400, 100, 200, 300, 200, 'invalid']"
      ]
     },
     "execution_count": 10,
     "metadata": {},
     "output_type": "execute_result"
    }
   ],
   "source": [
    "#Assigment - 1:\n",
    "#city = ['pune','mumbai','chennai','banglore','pune','mumbai','chennai']\n",
    "#pune -100\n",
    "#mumbai - 200\n",
    "#chennai -300\n",
    "#banglore - 400\n",
    "city = ['pune','mumbai','chennai','banglore','pune','mumbai','Chennai','Mumbai','satara']\n",
    "list(map(lambda x : 100 if x.lower()=='pune' else 200 if x.lower()=='mumbai' else 300 if x.lower()=='chennai'\n",
    "         else 400 if x.lower()=='banglore'else'invalid',city))\n",
    "\n"
   ]
  },
  {
   "cell_type": "code",
   "execution_count": 11,
   "id": "cf2a9656-02ec-4004-9ee3-bd8c40b26b3e",
   "metadata": {},
   "outputs": [
    {
     "data": {
      "text/plain": [
       "['2023', '2024', '2023', '2021']"
      ]
     },
     "execution_count": 11,
     "metadata": {},
     "output_type": "execute_result"
    }
   ],
   "source": [
    "#Assigment - 2 :\n",
    "#p = ['test_2023.pdf','python_2024.pdf','hadoop_2023.pdf','ml_2021.pdf']   - find - year\n",
    "p = ['test_2023.pdf','python_2024.pdf','hadoop_2023.pdf','ml_2021.pdf']  \n",
    "list(map(lambda x:x.split('_')[1].split('.')[0],p))\n"
   ]
  },
  {
   "cell_type": "code",
   "execution_count": 38,
   "id": "fdbb2e09-d4f0-4793-b895-48035cac54bc",
   "metadata": {},
   "outputs": [
    {
     "name": "stdout",
     "output_type": "stream",
     "text": [
      "Days : ['01', '02', '05']\n",
      "Month : ['02', '05', '03']\n",
      "Year : ['2021', '2021', '2024']\n"
     ]
    }
   ],
   "source": [
    "#Assigment -3 : \n",
    "#p = ['01-02-2021','02-05-2021','05-03-2024'] - day-month-year\n",
    "p = ['01-02-2021','02-05-2021','05-03-2024']\n",
    "Daylist=list(map(lambda x:x.split('-')[0],p))\n",
    "print(\"Days :\",Daylist)\n",
    "Monthlist=list(map(lambda x:x.split('-')[1],p))\n",
    "print(\"Month :\",Monthlist)\n",
    "Yearlist=list(map(lambda x:x.split('-')[2],p))\n",
    "print(\"Year :\",Yearlist)"
   ]
  },
  {
   "cell_type": "code",
   "execution_count": 23,
   "id": "7a1921fb-aa48-44e2-8b88-18157468aa16",
   "metadata": {},
   "outputs": [
    {
     "data": {
      "text/plain": [
       "['test@gmail.com', 'python@gmail.com', 'abc@gov.com']"
      ]
     },
     "execution_count": 23,
     "metadata": {},
     "output_type": "execute_result"
    }
   ],
   "source": [
    "#using Filter\n",
    "#Assigment -1 : \n",
    "emails  = ['test@gmail.com','sample@gmail.in','python@gmail.com','abc@gov.com']\n",
    "list(filter(lambda x: x.endswith('.com'),emails))  #.com extention mail"
   ]
  },
  {
   "cell_type": "code",
   "execution_count": 24,
   "id": "d24e046f-0124-4580-b95f-858222157c69",
   "metadata": {},
   "outputs": [
    {
     "data": {
      "text/plain": [
       "['f', 'f', 'f', 'f']"
      ]
     },
     "execution_count": 24,
     "metadata": {},
     "output_type": "execute_result"
    }
   ],
   "source": [
    "#Assigment -2 : \n",
    "gen = ['m','f','f','f','m','f','m']\n",
    "list(filter(lambda x:x=='f',gen))  #Female"
   ]
  },
  {
   "cell_type": "code",
   "execution_count": 25,
   "id": "3e8b2e20-2530-48f4-b363-08d979f03e8b",
   "metadata": {},
   "outputs": [
    {
     "data": {
      "text/plain": [
       "['mumbai', 'mumbai', 'Mumbai']"
      ]
     },
     "execution_count": 25,
     "metadata": {},
     "output_type": "execute_result"
    }
   ],
   "source": [
    "#Assigment -3 :\n",
    "city = ['pune','mumbai','chennai','banglore','pune','mumbai','Chennai','Mumbai','satara']\n",
    "list(filter(lambda x:x.lower()=='mumbai',city))    #mumbai city"
   ]
  },
  {
   "cell_type": "code",
   "execution_count": 36,
   "id": "15bdfc3c-d19f-445a-8e77-a9f4dc084950",
   "metadata": {},
   "outputs": [
    {
     "name": "stdout",
     "output_type": "stream",
     "text": [
      "01 Day Dates are: ['01-02-2021', '01-05-2021', '01-07-2021', '01-03-2024']\n",
      "2024 Year Dates are: ['05-03-2024', '07-01-2024', '01-03-2024']\n"
     ]
    }
   ],
   "source": [
    "#Assigment -4:\n",
    "p = ['01-02-2021','02-05-2021','05-03-2024','01-05-2021','01-07-2021','07-01-2024','01-03-2024']\n",
    "Date_Filter_list=list(filter(lambda x:x.split('-')[0]=='01',p))   ##day filter\n",
    "print(\"01 Day Dates are:\",Date_Filter_list)\n",
    "Year_Filter_list=list(filter(lambda x:x.split('-')[2]=='2024',p))   ##year\n",
    "print(\"2024 Year Dates are:\",Year_Filter_list)\n"
   ]
  },
  {
   "cell_type": "code",
   "execution_count": null,
   "id": "05d5466c-ef77-44bc-beb8-953221d07ece",
   "metadata": {},
   "outputs": [],
   "source": []
  }
 ],
 "metadata": {
  "kernelspec": {
   "display_name": "Python 3 (ipykernel)",
   "language": "python",
   "name": "python3"
  },
  "language_info": {
   "codemirror_mode": {
    "name": "ipython",
    "version": 3
   },
   "file_extension": ".py",
   "mimetype": "text/x-python",
   "name": "python",
   "nbconvert_exporter": "python",
   "pygments_lexer": "ipython3",
   "version": "3.12.4"
  }
 },
 "nbformat": 4,
 "nbformat_minor": 5
}
